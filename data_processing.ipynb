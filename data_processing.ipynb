{
 "cells": [
  {
   "cell_type": "code",
   "execution_count": 1,
   "id": "252abb12",
   "metadata": {},
   "outputs": [],
   "source": [
    "import pandas as pd\n",
    "import numpy as np\n",
    "from datetime import datetime\n",
    "from pathlib import Path\n"
   ]
  },
  {
   "cell_type": "code",
   "execution_count": 20,
   "id": "9717c524",
   "metadata": {},
   "outputs": [
    {
     "name": "stdout",
     "output_type": "stream",
     "text": [
      "Processing folder: car (label = 'car')\n",
      "  Loaded and resampled Accelerometer.csv\n",
      "  Loaded and resampled Gyroscope.csv\n",
      "  Loaded and resampled Location.csv\n",
      "Processing folder: train (label = 'train')\n",
      "  Loaded and resampled Accelerometer.csv\n",
      "  Loaded and resampled Gyroscope.csv\n",
      "  Loaded and resampled Location.csv\n",
      "Processing folder: train2 (label = 'train')\n",
      "  Loaded and resampled Accelerometer.csv\n",
      "  Loaded and resampled Gyroscope.csv\n",
      "  Loaded and resampled Location.csv\n",
      "Processing folder: walking (label = 'walking')\n",
      "  Loaded and resampled Accelerometer.csv\n",
      "  Loaded and resampled Gyroscope.csv\n",
      "  Loaded and resampled Location.csv\n",
      "Processing folder: walking2 (label = 'walking')\n",
      "  Loaded and resampled Accelerometer.csv\n",
      "  Loaded and resampled Gyroscope.csv\n",
      "  Loaded and resampled Location.csv\n",
      "Final dataset shape after removing NaNs: (3255, 15)\n",
      "Labels present: label\n",
      "train      1196\n",
      "walking    1187\n",
      "car         872\n",
      "Name: count, dtype: int64\n",
      "Saved final_df to C:\\Users\\iChin\\School\\MLQS\\MLQS_2025\\data\\final_data.csv\n"
     ]
    }
   ],
   "source": [
    "# Configuration\n",
    "list_files = ['Accelerometer.csv', 'Gyroscope.csv', 'Location.csv']\n",
    "base_data_dir = Path('data')\n",
    "resample_interval = \"1s\"\n",
    "anchor_time = pd.Timestamp(\"2025-01-01 00:00\")\n",
    "labels_to_include = ['train', 'walking', 'car']\n",
    "\n",
    "# Store processed labeled dataframes\n",
    "dataframes = []\n",
    "\n",
    "# Loop through all relevant subdirectories\n",
    "for folder in base_data_dir.iterdir():\n",
    "    if folder.is_dir():\n",
    "        folder_name = folder.name.lower()\n",
    "        matched_label = next((label for label in labels_to_include if folder_name.startswith(label)), None)\n",
    "\n",
    "        if matched_label:\n",
    "            print(f\"Processing folder: {folder.name} (label = '{matched_label}')\")\n",
    "            folder_data = {}\n",
    "\n",
    "            for file_name in list_files:\n",
    "                file_path = folder / file_name\n",
    "                if file_path.exists():\n",
    "                    key = file_name.replace('.csv', '')\n",
    "                    df = pd.read_csv(file_path)\n",
    "\n",
    "                    if 'Time (s)' not in df.columns:\n",
    "                        print(f\"Skipping {file_name} in {folder.name}: No 'Time (s)' column.\")\n",
    "                        continue\n",
    "\n",
    "                    # Convert time to timestamp\n",
    "                    df[\"timestamp\"] = anchor_time + pd.to_timedelta(df[\"Time (s)\"], unit=\"s\")\n",
    "                    df.set_index(\"timestamp\", inplace=True)\n",
    "\n",
    "                    # Get numeric columns\n",
    "                    num_cols = df.select_dtypes(include=\"number\").columns.tolist()\n",
    "\n",
    "                    # Interpolate\n",
    "                    df[num_cols] = df[num_cols].interpolate(method='linear', limit_direction='both')\n",
    "\n",
    "                    # Resample and fill\n",
    "                    df_resampled = df[num_cols].resample(resample_interval).mean()\n",
    "                    df_resampled = df_resampled.ffill().bfill()\n",
    "\n",
    "                    # Remove first and last row\n",
    "                    df_resampled = df_resampled.iloc[1:-1]\n",
    "\n",
    "                    folder_data[key] = df_resampled\n",
    "                    print(f\"  Loaded and resampled {file_name}\")\n",
    "                else:\n",
    "                    print(f\"  Missing {file_name} in {folder.name}\")\n",
    "\n",
    "            # Combine and label\n",
    "            if folder_data:\n",
    "                df_combined = pd.concat(folder_data.values(), axis=1)\n",
    "                df_combined['label'] = matched_label\n",
    "                df_combined.reset_index(inplace=True)\n",
    "                dataframes.append(df_combined)\n",
    "\n",
    "# Final merged dataset\n",
    "final_df = pd.concat(dataframes, ignore_index=True)\n",
    "\n",
    "# Drop all rows with any NaN values\n",
    "final_df = final_df.dropna()\n",
    "final_df = final_df.drop(columns=[col for col in final_df.columns if col == 'Time (s)'])\n",
    "print(f\"Final dataset shape after removing NaNs: {final_df.shape}\")\n",
    "print(\"Labels present:\", final_df['label'].value_counts())\n",
    "\n",
    "# Save to CSV in 'data' folder\n",
    "output_path = Path(\"data/final_data.csv\")\n",
    "output_path.parent.mkdir(parents=True, exist_ok=True)\n",
    "final_df.to_csv(output_path, index=False)\n",
    "print(f\"Saved final_df to {output_path.resolve()}\")\n"
   ]
  },
  {
   "cell_type": "code",
   "execution_count": 22,
   "id": "44f21cf9",
   "metadata": {},
   "outputs": [],
   "source": [
    "# NaNs are always the first or last row from the dataframes respectively\n",
    "final_df = final_df.dropna()"
   ]
  },
  {
   "cell_type": "code",
   "execution_count": 30,
   "id": "4c0c1de8-5f81-4f1e-81e1-a0db7a62b137",
   "metadata": {},
   "outputs": [
    {
     "data": {
      "text/plain": [
       "Index(['timestamp', 'X (m/s^2)', 'Y (m/s^2)', 'Z (m/s^2)', 'X (rad/s)',\n",
       "       'Y (rad/s)', 'Z (rad/s)', 'Latitude (°)', 'Longitude (°)', 'Height (m)',\n",
       "       'Velocity (m/s)', 'Direction (°)', 'Horizontal Accuracy (m)',\n",
       "       'Vertical Accuracy (°)', 'label'],\n",
       "      dtype='object')"
      ]
     },
     "execution_count": 30,
     "metadata": {},
     "output_type": "execute_result"
    }
   ],
   "source": [
    "final_df.columns"
   ]
  },
  {
   "cell_type": "code",
   "execution_count": null,
   "id": "a2b0ab54-bdfc-4eff-8bda-2f9dc61009cf",
   "metadata": {},
   "outputs": [],
   "source": []
  },
  {
   "cell_type": "code",
   "execution_count": null,
   "id": "da23d03b-2003-45d0-bc48-6e3833075297",
   "metadata": {},
   "outputs": [],
   "source": []
  }
 ],
 "metadata": {
  "kernelspec": {
   "display_name": "Python 3 (ipykernel)",
   "language": "python",
   "name": "python3"
  },
  "language_info": {
   "codemirror_mode": {
    "name": "ipython",
    "version": 3
   },
   "file_extension": ".py",
   "mimetype": "text/x-python",
   "name": "python",
   "nbconvert_exporter": "python",
   "pygments_lexer": "ipython3",
   "version": "3.12.4"
  }
 },
 "nbformat": 4,
 "nbformat_minor": 5
}
